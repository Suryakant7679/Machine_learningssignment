{
 "cells": [
  {
   "cell_type": "markdown",
   "id": "05c0d83f-2087-4b82-8266-2897753d8ac8",
   "metadata": {},
   "source": [
    "Q1) Explain The following with an exaple:\n",
    "2) Artificial intelligence\n",
    "Machine learning\n",
    "Deep learning"
   ]
  },
  {
   "cell_type": "markdown",
   "id": "4b96ffd3-02ea-41c6-9bf3-8ed0534beb35",
   "metadata": {},
   "source": [
    "Ans:-\\\n",
    "Artificial intelligence is an ability of machine to imitate intelligent human behaviour\n",
    "\n",
    "e.g.\n",
    "Self Driving car\n",
    "\n",
    "Machine learning is  a subset of artificial intelligence that helps you build AI-driven applications. \n",
    "house rent prediction using ml algorithhm\n",
    "\n",
    "Deep Learning is a subset of machine learning that uses vast volumes of data and complex algorithms to train a model.\n",
    "\n"
   ]
  },
  {
   "cell_type": "markdown",
   "id": "215209ec-d701-4c74-b12f-e8ad38eb578c",
   "metadata": {},
   "source": [
    "Q2- What is supervised learning? List some examples of supervised learning."
   ]
  },
  {
   "cell_type": "markdown",
   "id": "aed9ebc1-3df8-421a-ae2d-d18f8a431e5f",
   "metadata": {},
   "source": [
    "Ans:- In supervised learning, the data is already labeled, which means you know the target variable. Using this method of learning, systems can predict future outcomes based on past data. It requires that at least an input and output variable be given to the model for it to be trained. \n",
    "\n",
    "Below is an example of a supervised learning method. The algorithm is trained using labeled data of dogs and cats. The trained model predicts whether the new image is that of a cat or a dog."
   ]
  },
  {
   "cell_type": "markdown",
   "id": "4f68edc8-7fdb-4531-904d-a1d27a44efd8",
   "metadata": {},
   "source": [
    "Q3- What is unsupervised learning? List some Examples of unsupervised learning."
   ]
  },
  {
   "cell_type": "markdown",
   "id": "eec9a55d-b1e4-48a0-b74c-4d13257c8562",
   "metadata": {},
   "source": [
    "Ans- Unsupervised learning algorithms employ unlabeled data to discover patterns from the data on their own. The systems are able to identify hidden features from the input data provided. Once the data is more readable, the patterns and similarities become more evident."
   ]
  },
  {
   "cell_type": "markdown",
   "id": "b3100718-c555-4827-b016-9598b3f9cfb0",
   "metadata": {},
   "source": [
    "Q4- What is the difference between AI, ML, DL, and DS?"
   ]
  },
  {
   "cell_type": "markdown",
   "id": "544f9fec-67d7-4847-953b-fea0de988134",
   "metadata": {},
   "source": [
    "Ans:- Artificial intelligence is an ability of machine to imitate intelligent human behaviour\n",
    "\n",
    "Machine learning is a subset of artificial intelligence that helps you build AI-driven applications. house rent prediction using ml algorithhm\n",
    "\n",
    "Deep Learning is a subset of machine learning that uses vast volumes of data and complex algorithms to train a model.\n",
    "\n",
    "Data science is the science of data that useses all possible algorithms of machine learning to work on data set,and bring a meaningful insights. "
   ]
  },
  {
   "cell_type": "markdown",
   "id": "c1f0d2c4-93dd-4248-aa6f-99ad24b46eac",
   "metadata": {},
   "source": [
    "Q5- What are the main difference between supervised, unsupervised, and semi-supervised learning?"
   ]
  },
  {
   "cell_type": "markdown",
   "id": "22e038a2-a467-4696-98a7-c177817996ad",
   "metadata": {},
   "source": [
    "ANS:- Supervised learning is a problem with labeled data, expecting to develop predictive capability. Unsupervised learning is discovering process, diving into unlabeled data to capture hidden information. Semi-supervised learning is a blend of supervised and unsupervised learning.\n"
   ]
  },
  {
   "cell_type": "markdown",
   "id": "2f5a3e40-ab52-47bf-8407-3c5a5fd0baf3",
   "metadata": {},
   "source": [
    "Q6- What is train, test and validation split? Explain the importance of each term."
   ]
  },
  {
   "cell_type": "markdown",
   "id": "329f6937-4513-4834-823a-28f2f211d701",
   "metadata": {},
   "source": [
    "Ans:- Training data is the set of the data on which the actual training takes place. Validation split helps to improve the model performance by fine-tuning the model after each epoch. The test set informs us about the final accuracy of the model after completing the training phase."
   ]
  },
  {
   "cell_type": "markdown",
   "id": "39a581c5-3862-4b36-9cb2-534eec8bd305",
   "metadata": {},
   "source": [
    "Q7- How can unsupervised learning be used in anomaly detection?"
   ]
  },
  {
   "cell_type": "markdown",
   "id": "9b5057a2-701b-47c3-8757-a3b1b1e01100",
   "metadata": {},
   "source": [
    "Ans:- Anomaly detection techniques of unsupervised nature assume that normal data points occur considerably more frequently than anomalous data points. This assumption is used to classify data points that occur less frequently as anomalies. Unsupervised techniques assign each data point a score instead of a label."
   ]
  },
  {
   "cell_type": "markdown",
   "id": "cf499eed-755a-4ae4-a9c5-3eb9aa6532ad",
   "metadata": {},
   "source": [
    "Q8- List down some commonly used supervised learning algorithms and unsupervised learning\n",
    "algorithms."
   ]
  },
  {
   "cell_type": "markdown",
   "id": "2e450f17-591e-4a32-a881-c76bd92bcb07",
   "metadata": {},
   "source": [
    "Ans:- The most commonly used Supervised Learning algorithms are decision tree, logistic regression, linear regression, support vector machine. "
   ]
  },
  {
   "cell_type": "code",
   "execution_count": null,
   "id": "2064e556-9d3d-40f8-861e-98335199ba67",
   "metadata": {},
   "outputs": [],
   "source": []
  }
 ],
 "metadata": {
  "kernelspec": {
   "display_name": "Python 3 (ipykernel)",
   "language": "python",
   "name": "python3"
  },
  "language_info": {
   "codemirror_mode": {
    "name": "ipython",
    "version": 3
   },
   "file_extension": ".py",
   "mimetype": "text/x-python",
   "name": "python",
   "nbconvert_exporter": "python",
   "pygments_lexer": "ipython3",
   "version": "3.10.0"
  }
 },
 "nbformat": 4,
 "nbformat_minor": 5
}
